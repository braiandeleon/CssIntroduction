{
 "cells": [
  {
   "cell_type": "markdown",
   "id": "2c9e4355-1123-41e1-84a5-c68d1ce55bcb",
   "metadata": {
    "tags": []
   },
   "source": [
    "<h1 id=\"Introduction-to-CSS-(Cascading-Style-Sheets)&nbsp;\" style=\"text-align: center;\">Introduction to CSS (Cascading Style Sheets)&nbsp;</h1>\n",
    "<p>The browser primarily receives HTML and CSS from an external resource hosted by the webpage (usually a server). These two make up the basic structure of any website. The main difference is that CSS enables control of the styling and layout of web pages.</p>\n",
    "<p>The better way to understand CSS is to imagine every element inside an invisible rectangular box so that you can modify it&rsquo;s position and style. CSS associates style rules with HTML elements. These rules govern how the content of specified elements should be displayed.</p>\n",
    "<p>&nbsp;</p>\n",
    "<p>There are two different kinds of elements. Block and Inline.</p>\n",
    "<ul>\n",
    "<li>Inline elements flow within the text and,</li>\n",
    "<li>Block ones create new lines to display the elements.</li>\n",
    "</ul>\n",
    "<p><img src=\"images/1.png?_xsrf=2%7C81e78b6c%7C5c9f85d332e573adb16ff395e813953b%7C1675892698&amp;1676143914531\" alt=\"Image\" width=\"400\" height=\"400\" /></p>\n",
    "<h3 id=\"Basic-Structure-of-Syntax\">Basic Structure of Syntax</h3>\n",
    "<p><img src=\"images/structure.png?_xsrf=2%7C81e78b6c%7C5c9f85d332e573adb16ff395e813953b%7C1675892698&amp;1676143914531\" alt=\"Image\" width=\"30%\" height=\"30%\" /></p>\n",
    "<p>A CSS rule contains two parts: a selector and a declaration.</p>\n",
    "<ul>\n",
    "<li><em><strong>Selectors</strong></em> indicate which element the rule applies to. The same rule can apply to different elements.</li>\n",
    "<li><em><strong>Declarations</strong></em> indicate how the elements referred should be styled and are split into two parts: a property and a value.</li>\n",
    "</ul>"
   ]
  },
  {
   "cell_type": "code",
   "execution_count": 87,
   "id": "d3063a51-05d8-4171-af2d-01b901d0d176",
   "metadata": {},
   "outputs": [],
   "source": [
    "%%script false --no-raise-error\n",
    "\n",
    "<html>\n",
    "<head>\n",
    "</head>\n",
    "<body>\n",
    "<h1>From Garden to Plate.</h1>\n",
    "<p>A <i>potager</i> is a French term for an\n",
    "ornamental vegetable or kitchen garden ... </p> <h2>What to Plant</h2>\n",
    "<p>Plants are chosen as much for their functionality\n",
    "as for their color and form ... </p> </body>\n",
    "</html>\n",
    "\n"
   ]
  },
  {
   "cell_type": "markdown",
   "id": "8f50edd0-fe46-4c2f-8587-f4033542fb5f",
   "metadata": {},
   "source": [
    "#### En la siguiente celda vemos como se ve el codigo una vez ejecutado:"
   ]
  },
  {
   "cell_type": "markdown",
   "id": "19ec66a4-d05f-421d-9070-41b93d49bb49",
   "metadata": {},
   "source": [
    "\n",
    "<h1>I'm a Tittle&nbsp;</h1>\n",
    "<p>A <em>potager</em> is a French term for an ornamental vegetable or kitchen garden ...</p>\n",
    "<h2>I'm a subtitle</h2>\n",
    "<p>Plants are chosen as much for their functionality as for their color and form ...</p>\n"
   ]
  },
  {
   "cell_type": "markdown",
   "id": "1361b5ba-208e-40d1-9ee9-eff4dbc0ba13",
   "metadata": {},
   "source": [
    "#### Mientras que el codigo externo de CSS: "
   ]
  },
  {
   "cell_type": "markdown",
   "id": "c2252f26-d511-4fe8-8f4f-eb27efdf3cf7",
   "metadata": {},
   "source": [
    "<code>    \n",
    "body {\n",
    "  font-family: Arial, Verdana, sans-serif;}\n",
    "h1, h2 {\n",
    "  color: #ee3e80;}\n",
    "p{\n",
    "color: #665544;} \n",
    "    \n",
    "</code>"
   ]
  },
  {
   "cell_type": "markdown",
   "id": "05012e2f-148f-4f67-ba6c-6e6a4d5ab74a",
   "metadata": {},
   "source": [
    "#### Una vez que el codigo se ejecuta, aplica el estilizado al codigo HTML,"
   ]
  },
  {
   "cell_type": "markdown",
   "id": "8c49d2bd-5430-458d-b226-e57f49874159",
   "metadata": {
    "tags": []
   },
   "source": [
    "<h1 id=\"-Titulo\" style=\"color: #ee3e86;\">Titulo</h1>\n",
    "<p>A <em>potager</em> is a French term for an ornamental vegetable or kitchen garden ...</p>\n",
    "<h2 id=\"What-to-Plant\" style=\"color: #ee3e86;\">What to Plant</h2>\n",
    "<p style=\"color: #665544;\">Plants are chosen as much for their functionality as for their color and form ...</p>"
   ]
  },
  {
   "cell_type": "markdown",
   "id": "e94161c0-7b32-4807-8482-724c913acddc",
   "metadata": {
    "tags": []
   },
   "source": [
    "<p><strong>CSS can be added to HTML documents in 3 ways:</strong></p>\n",
    "<ul>\n",
    "<li>Inline - by using the style attribute inside HTML elements.</li>\n",
    "<li>Internal - by using a &lt;style&gt; element in the &lt;head&gt; section.</li>\n",
    "<li>External - by using a &lt;link&gt; element to link to an external CSS file.</li>"
   ]
  },
  {
   "cell_type": "code",
   "execution_count": 1,
   "id": "02113290-5e1c-4c9c-9180-138b8e8a3ac4",
   "metadata": {},
   "outputs": [],
   "source": [
    "# USING EXTERNAL CSS FILE"
   ]
  },
  {
   "cell_type": "code",
   "execution_count": 18,
   "id": "d4a66da3-e051-4282-8d69-71909101fe49",
   "metadata": {
    "jupyter": {
     "source_hidden": true
    },
    "tags": []
   },
   "outputs": [
    {
     "name": "stdout",
     "output_type": "stream",
     "text": [
      "<!DOCTYPE html>\n",
      "<html>\n",
      " <head>\n",
      "  <title>\n",
      "   Using Internal CSS\n",
      "  </title>\n",
      "  <style type=\"text/css\">\n",
      "   body {\n",
      "          font-family: arial;\n",
      "          background-color: rgb(185,179,175);}\n",
      "      h1 {\n",
      "          color: rgb(170,250,250);}\n",
      "  </style>\n",
      " </head>\n",
      " <body>\n",
      "  <h1>\n",
      "   Potatoes\n",
      "  </h1>\n",
      "  <p>\n",
      "   There are dozens of different potato\n",
      "       varieties. They are usually described as\n",
      "early, second early and maincrop.\n",
      "  </p>\n",
      " </body>\n",
      "</html>\n"
     ]
    }
   ],
   "source": [
    "import requests\n",
    "from bs4 import BeautifulSoup\n",
    "\n",
    "html_text = open(\"./1.html\", \"r\")\n",
    "contents = html_text.read()\n",
    "soup = BeautifulSoup(contents, 'lxml')\n",
    "print(soup.prettify())"
   ]
  },
  {
   "cell_type": "code",
   "execution_count": null,
   "id": "87f12c98-622c-450e-b36e-5c48a30bb569",
   "metadata": {},
   "outputs": [],
   "source": [
    "# RENDERED CODE:"
   ]
  },
  {
   "cell_type": "code",
   "execution_count": 19,
   "id": "38aa7994-e59b-42e6-ab3a-0970408ba9cb",
   "metadata": {
    "tags": []
   },
   "outputs": [
    {
     "data": {
      "text/html": [
       "<!DOCTYPE html>\n",
       "<html>\n",
       "<head>\n",
       "<title>Using Internal CSS</title>\n",
       "    <style type=\"text/css\">\n",
       "      body {\n",
       "          font-family: arial;\n",
       "          background-color: rgb(185,0,0);}\n",
       "      h1 {\n",
       "          color: rgb(170,250,250);}\n",
       "    </style>\n",
       "  </head>\n",
       "<body>\n",
       "<h1>Potatoes</h1>\n",
       "<p>There are dozens of different potato\n",
       "       varieties. They are usually described as\n",
       "early, second early and maincrop.</p> </body>\n",
       "</html>"
      ],
      "text/plain": [
       "<IPython.core.display.HTML object>"
      ]
     },
     "execution_count": 19,
     "metadata": {},
     "output_type": "execute_result"
    }
   ],
   "source": [
    "from IPython.display import HTML\n",
    "\n",
    "HTML(filename=\"./1.html\")"
   ]
  },
  {
   "cell_type": "code",
   "execution_count": 30,
   "id": "2d344542-a5f2-42c5-b835-a88415935517",
   "metadata": {},
   "outputs": [
    {
     "data": {
      "text/plain": [
       "0"
      ]
     },
     "execution_count": 30,
     "metadata": {},
     "output_type": "execute_result"
    }
   ],
   "source": [
    "import subprocess, os, platform\n",
    "filepath = \"./1.html\"\n",
    "subprocess.call(('open', filepath))"
   ]
  },
  {
   "cell_type": "code",
   "execution_count": null,
   "id": "293b46d4-1c50-402e-96cd-54c27d29d976",
   "metadata": {},
   "outputs": [],
   "source": []
  }
 ],
 "metadata": {
  "kernelspec": {
   "display_name": "Python 3 (ipykernel)",
   "language": "python",
   "name": "python3"
  },
  "language_info": {
   "codemirror_mode": {
    "name": "ipython",
    "version": 3
   },
   "file_extension": ".py",
   "mimetype": "text/x-python",
   "name": "python",
   "nbconvert_exporter": "python",
   "pygments_lexer": "ipython3",
   "version": "3.9.13"
  }
 },
 "nbformat": 4,
 "nbformat_minor": 5
}
