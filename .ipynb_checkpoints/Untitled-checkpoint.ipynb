{
 "cells": [
  {
   "cell_type": "markdown",
   "id": "b65de989-3561-41b6-ab9b-8ba1266ac611",
   "metadata": {},
   "source": [
    "<h1 id=\"Introduction-to-CSS-(Cascading-Style-Sheets)&nbsp;\" style=\"text-align: center;\">Introduction to CSS (Cascading Style Sheets)&nbsp;</h1>\n",
    "<p>Browser primarily receives HTML and CSS from an external resource hosted by the webpage (usually a server). These two make up the basic structure of any website. The main difference is that CSS enables control of the styling and layout of web pages.</p>\n",
    "<p>The better way to understand CSS is to imagine every element inside an invisible rectangular box so that you can modify its position and style. CSS associates style rules with HTML elements. These rules govern how the content of specified elements should be displayed.</p>\n",
    "<p>&nbsp;</p>\n",
    "<p>There are two different kinds of elements. Block and Inline.</p>\n",
    "<ul>\n",
    "<li>Inline elements flow within the text and,</li>\n",
    "<li>Block ones create new lines to display the elements.</li>\n",
    "</ul>\n",
    "<p><img src=\"files/Desktop/Git/Cssintroduction/images/1.png?_xsrf=2%7C81e78b6c%7C5c9f85d332e573adb16ff395e813953b%7C1675892698&amp;1676143914653\" alt=\"Image\" width=\"400\" height=\"400\" /></p>\n",
    "<h3 id=\"Basic-Structure-of-Syntax\">Basic Structure of Syntax</h3>\n",
    "<p><img src=\"files/Desktop/Git/Cssintroduction/images/structure.png?_xsrf=2%7C81e78b6c%7C5c9f85d332e573adb16ff395e813953b%7C1675892698&amp;1676143914653\" alt=\"Image\" width=\"30%\" height=\"30%\" /></p>\n",
    "<p>A CSS rule contains two parts: a selector and a declaration.</p>\n",
    "<ul>\n",
    "<li><em><strong>Selectors</strong></em> indicate which element the rule applies to. The same rule can apply to different elements.</li>\n",
    "<li><em><strong>Declarations</strong></em> indicate how the elements referred should be styled and are split into two parts: a property and a value.</li>\n",
    "</ul>"
   ]
  },
  {
   "cell_type": "code",
   "execution_count": 4,
   "id": "723957b3-3dab-474f-b615-5b5afa238c93",
   "metadata": {},
   "outputs": [
    {
     "data": {
      "text/plain": [
       "0"
      ]
     },
     "execution_count": 4,
     "metadata": {},
     "output_type": "execute_result"
    }
   ],
   "source": [
    "# Comentario\n",
    "\n",
    "import subprocess, os, platform\n",
    "filepath = \"./html/cascade.html\"\n",
    "subprocess.call(('open', filepath))"
   ]
  },
  {
   "cell_type": "markdown",
   "id": "0d77bf24-2967-4f83-b385-12b56e35ef84",
   "metadata": {},
   "source": [
    "<p><span style=\"font-size: 24pt;\"><strong>Note</strong></span></p>\n",
    "<p><strong>&lt;!DOCTYPE html&gt;</strong> represent the HTML5 syntax which supports some new tags like nav, header etc.</p>\n",
    "<p>The <strong>html </strong>tag contains HTML content also knows as root tag.</p>\n",
    "<p><strong>head</strong> includes the CSS style code, JavaScript code, and meta tags.</p>\n",
    "<p><strong>CSS</strong> is used to decorate content and can be added using style tag.</p>\n",
    "<p>All the HTML rendered content should be placed inside body tag.</p>\n",
    "<p><strong>div</strong> is used as a container to represent an area on the screen.</p>\n",
    "<p>The <strong>table</strong> tag is used to render data in the form of a table. <strong>th</strong> is for bold heading columns,<strong> td</strong> for columns, and <strong>tr</strong> is for rows.&nbsp;</p>"
   ]
  },
  {
   "cell_type": "markdown",
   "id": "a10d9a88-21d0-4ed7-87cd-cd0c38e7b9f7",
   "metadata": {},
   "source": [
    "<a href=\"./html/cascade.html\">Visit Example.com</a>\n"
   ]
  },
  {
   "cell_type": "code",
   "execution_count": null,
   "id": "0dfc8a20-d7f3-4c52-9072-509c789db777",
   "metadata": {},
   "outputs": [],
   "source": []
  }
 ],
 "metadata": {
  "kernelspec": {
   "display_name": "Python 3 (ipykernel)",
   "language": "python",
   "name": "python3"
  },
  "language_info": {
   "codemirror_mode": {
    "name": "ipython",
    "version": 3
   },
   "file_extension": ".py",
   "mimetype": "text/x-python",
   "name": "python",
   "nbconvert_exporter": "python",
   "pygments_lexer": "ipython3",
   "version": "3.9.13"
  }
 },
 "nbformat": 4,
 "nbformat_minor": 5
}
