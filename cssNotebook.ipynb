{
 "cells": [
  {
   "cell_type": "markdown",
   "id": "b65de989-3561-41b6-ab9b-8ba1266ac611",
   "metadata": {},
   "source": [
    "<h1 id=\"Introduction-to-CSS-(Cascading-Style-Sheets)&nbsp;\" style=\"text-align: center;\">Introduction to CSS (Cascading Style Sheets)&nbsp;</h1>\n",
    "<p>Browser primarily receives HTML and CSS from an external resource hosted by the webpage (usually a server). These two make up the basic structure of any website. The main difference is that CSS enables control of the styling and layout of web pages.</p>\n",
    "<p>The better way to understand CSS is to imagine every element inside an invisible rectangular box so that you can modify its position and style. CSS associates style rules with HTML elements. These rules govern how the content of specified elements should be displayed.</p>\n",
    "<p>&nbsp;</p>\n",
    "<p>There are two different kinds of elements. Block and Inline.</p>\n",
    "<ul>\n",
    "<li>Inline elements flow within the text and,</li>\n",
    "<li>Block ones create new lines to display the elements.</li>\n",
    "</ul>\n",
    "<p><img src=\"images/1.png\" alt=\"Image\" width=\"400\" height=\"400\" /></p>\n",
    "<h3 id=\"Basic-Structure-of-Syntax\">Basic Structure of Syntax</h3>\n",
    "<p><img src=\"images/structure.png\" alt=\"Image\" width=\"30%\" height=\"30%\" /></p>\n",
    "<p>A CSS rule contains two parts: a selector and a declaration.</p>\n",
    "<ul>\n",
    "<li><em><strong>Selectors</strong></em> indicate which element the rule applies to. The same rule can apply to different elements.</li>\n",
    "<li><em><strong>Declarations</strong></em> indicate how the elements referred should be styled and are split into two parts: a property and a value.</li>\n",
    "</ul>"
   ]
  },
  {
   "cell_type": "markdown",
   "id": "0d77bf24-2967-4f83-b385-12b56e35ef84",
   "metadata": {},
   "source": [
    "<p><span style=\"font-size: 24pt;\"><strong>Note</strong></span></p>\n",
    "<p><strong>&lt;!DOCTYPE html&gt;</strong> represent the HTML5 syntax which supports some new tags like nav, header etc.</p>\n",
    "<p>The <strong>html </strong>tag contains HTML content also knows as root tag.</p>\n",
    "<p><strong>head</strong> includes the CSS style code, JavaScript code, and meta tags (describes HTML document: keywords).</p>\n",
    "<p>All the HTML rendered content should be placed inside body tag.</p>\n",
    "<p><strong>div</strong> is used as a container to represent an area on the screen.</p>"
   ]
  },
  {
   "cell_type": "markdown",
   "id": "c94c7f48-da5f-442a-ac18-cc2ae26c22ef",
   "metadata": {},
   "source": [
    "<p><a href=\"html/cascade.html\">Example CSS</a></p>"
   ]
  },
  {
   "cell_type": "markdown",
   "id": "150b89ee-a8a6-420c-8d34-eb05fdf52841",
   "metadata": {},
   "source": [
    "<p><a href=\"html/using-external-css.html\">Using external CSS</a></p>"
   ]
  },
  {
   "cell_type": "code",
   "execution_count": 19,
   "id": "b26f8942-9347-44d7-a7c2-91c20b6e6d45",
   "metadata": {},
   "outputs": [
    {
     "data": {
      "text/html": [
       "<a href=\"html/using-external-css.html\" target=\"_blank\">Link to Example</a>"
      ],
      "text/plain": [
       "<IPython.core.display.HTML object>"
      ]
     },
     "execution_count": 19,
     "metadata": {},
     "output_type": "execute_result"
    }
   ],
   "source": [
    "from IPython.display import HTML\n",
    "HTML('''<a href=\"html/using-external-css.html\" target=\"_blank\">Link to Example</a>''')"
   ]
  },
  {
   "cell_type": "code",
   "execution_count": 1,
   "id": "35b03fd0",
   "metadata": {},
   "outputs": [
    {
     "data": {
      "text/html": [
       "\n",
       "<iframe src=\"html/using-external-css.html\" width=\"800\" height=\"600\"></iframe>\n"
      ],
      "text/plain": [
       "<IPython.core.display.HTML object>"
      ]
     },
     "metadata": {},
     "output_type": "display_data"
    }
   ],
   "source": [
    "from IPython.display import HTML,display \n",
    "html = \"\"\"\n",
    "<iframe src=\"html/using-external-css.html\" width=\"800\" height=\"600\"></iframe>\n",
    "\"\"\"\n",
    "\n",
    "display(HTML(html))\n"
   ]
  },
  {
   "cell_type": "code",
   "execution_count": null,
   "id": "8997a489",
   "metadata": {},
   "outputs": [],
   "source": []
  }
 ],
 "metadata": {
  "kernelspec": {
   "display_name": "Python 3 (ipykernel)",
   "language": "python",
   "name": "python3"
  },
  "language_info": {
   "codemirror_mode": {
    "name": "ipython",
    "version": 3
   },
   "file_extension": ".py",
   "mimetype": "text/x-python",
   "name": "python",
   "nbconvert_exporter": "python",
   "pygments_lexer": "ipython3",
   "version": "3.9.13"
  }
 },
 "nbformat": 4,
 "nbformat_minor": 5
}
