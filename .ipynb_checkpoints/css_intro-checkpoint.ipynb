{
 "cells": [
  {
   "cell_type": "markdown",
   "id": "2c9e4355-1123-41e1-84a5-c68d1ce55bcb",
   "metadata": {
    "tags": []
   },
   "source": [
    "<h1 id=\"Introduction-to-CSS&nbsp;\">Introduction to CSS&nbsp;</h1>\n",
    "<p>The browser primarily receives HTML and CSS from an external resource hosted by the webpage (usually a server). These two make up the basic structure of any website. The main difference is that CSS enables control of the styling and layout of web pages.</p>\n",
    "<p>The better way to understand CSS is to imagine every element inside an invisible rectangular box so that you can modify it&rsquo;s position and style. CSS associates style rules with HTML elements. These rules govern how the content of specified elements should be displayed.</p>\n",
    "<p>&nbsp;</p>\n",
    "<p>There are two different kinds of elements. Block and Inline.</p>\n",
    "<ul>\n",
    "<li>Inline elements flow within the text and,</li>\n",
    "<li>Block ones create new lines to display the elements.</li>\n",
    "</ul>\n",
    "<p><img src=\"files/images/1.png\" alt=\"Image\" width=\"400\" height=\"400\" /></p>\n",
    "<h3>Basic Structure of Syntax</h3>\n",
    "<p><img src=\"files/images/structure.png\" alt=\"Image\" width=\"30%\" height=\"30%\" /></p>\n",
    "<p>A CSS rule contains two parts: a selector and a declaration.</p>\n",
    "<ul>\n",
    "<li><em><strong>Selectors</strong></em> indicate which element the rule applies to. The same rule can apply to different elements.</li>\n",
    "<li><em><strong>Declarations</strong></em> indicate how the elements referred should be styled and are split into two parts: a property and a value.</li>\n",
    "</ul>\n",
    "<p><strong>CSS can be added to HTML documents in 3 ways:</strong></p>\n",
    "<ul>\n",
    "<li>Inline - by using the style attribute inside HTML elements.</li>\n",
    "<li>Internal - by using a &lt;style&gt; element in the &lt;head&gt; section.</li>\n",
    "<li>External - by using a &lt;link&gt; element to link to an external CSS file.</li>\n",
    "</ul>"
   ]
  },
  {
   "cell_type": "code",
   "execution_count": null,
   "id": "e2b226c6-59f5-4663-ae29-1642268ad749",
   "metadata": {},
   "outputs": [],
   "source": [
    "<html>\n",
    "<head>\n",
    "<title>Introducing CSS</title>\n",
    "</head>\n",
    "<body>\n",
    "<h1>From Garden to Plate</h1>\n",
    "<p>A <i>potager</i> is a French term for an\n",
    "ornamental vegetable or kitchen garden ... </p> <h2>What to Plant</h2>\n",
    "<p>Plants are chosen as much for their functionality\n",
    "as for their color and form ... </p> </body>\n",
    "</html>"
   ]
  },
  {
   "cell_type": "markdown",
   "id": "8f50edd0-fe46-4c2f-8587-f4033542fb5f",
   "metadata": {},
   "source": [
    "<p>En la siguiente celda vemos como se ve el codigo una vez ejecutado:</p>"
   ]
  },
  {
   "cell_type": "markdown",
   "id": "19ec66a4-d05f-421d-9070-41b93d49bb49",
   "metadata": {},
   "source": [
    "<h1>I'm a Tittle&nbsp;</h1>\n",
    "<p>A <em>potager</em> is a French term for an ornamental vegetable or kitchen garden ...m</p>\n",
    "<h2>I'm a subtitle</h2>\n",
    "<p>Plants are chosen as much for their functionality as for their color and form ...</p>"
   ]
  },
  {
   "cell_type": "code",
   "execution_count": null,
   "id": "4ceac147-739a-45b2-9453-4ac1ea37e65f",
   "metadata": {},
   "outputs": [],
   "source": [
    "Example"
   ]
  }
 ],
 "metadata": {
  "kernelspec": {
   "display_name": "Python 3 (ipykernel)",
   "language": "python",
   "name": "python3"
  },
  "language_info": {
   "codemirror_mode": {
    "name": "ipython",
    "version": 3
   },
   "file_extension": ".py",
   "mimetype": "text/x-python",
   "name": "python",
   "nbconvert_exporter": "python",
   "pygments_lexer": "ipython3",
   "version": "3.9.13"
  }
 },
 "nbformat": 4,
 "nbformat_minor": 5
}
