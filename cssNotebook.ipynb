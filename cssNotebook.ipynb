{
 "cells": [
  {
   "cell_type": "markdown",
   "id": "b65de989-3561-41b6-ab9b-8ba1266ac611",
   "metadata": {},
   "source": [
    "<h1 id=\"Introduction-to-CSS-(Cascading-Style-Sheets)&nbsp;\" style=\"text-align: center;\">Introduction to CSS (Cascading Style Sheets)&nbsp;</h1>\n",
    "<p>Browser primarily receives HTML and CSS from an external resource hosted by the webpage (usually a server). These two make up the basic structure of any website. The main difference is that CSS enables control of the styling and layout of web pages.</p>\n",
    "<p>&nbsp;</p>\n",
    "<h4 id=\"Where-CSS-fits?\">Where CSS fits?</h4>\n",
    "<p style=\"text-align: center;\"><img src=\"https://cdn-media-1.freecodecamp.org/images/1*18ZU8N-2YsccoCU8z9uWOw.png\" alt=\"The relationship between HTML, CSS and JavaScript explained by building a  city\" width=\"30%\" /></p>\n",
    "<p style=\"text-align: center;\"><img src=\"https://qph.cf2.quoracdn.net/main-qimg-73742f9afad887900ea786ae2006ba28-pjlq\" alt=\"What is the relationship between HTML, JavaScript and CSS? - Quora\" width=\"30%\" /></p>\n",
    "<p style=\"text-align: center;\"><img src=\"https://qph.cf2.quoracdn.net/main-qimg-ce808a9ee61a5abd32f529b9150dd470\" alt=\"How to understand HTML and CSS in the simplest way - Quora\" width=\"30%\" /></p>\n",
    "<p>HTML says what is in there. CSS how it looks and JS how everything should behave.&nbsp;</p>\n",
    "<p>&nbsp;</p>\n",
    "<p>The better way to understand CSS is to imagine every element inside an invisible rectangular box so that you can modify its position and style. CSS associates style rules with HTML elements. These rules govern how the content of specified elements should be displayed.</p>\n",
    "<p>&nbsp;</p>\n",
    "<p>There are two different kinds of elements. Block and Inline.</p>\n",
    "<ul>\n",
    "<li>Inline elements flow within the text and,</li>\n",
    "<li>Block ones create new lines to display the elements.</li>\n",
    "</ul>\n",
    "<p><img src=\"../../../../../../files/Desktop/Git/Cssintroduction/files/Desktop/Git/Cssintroduction/images/1.png%3F_xsrf%3D2%7C735564a9%7C505b024be774af5d52bda1824b9ef479%7C1676178982%261676234427497?_xsrf=2%7C735564a9%7C505b024be774af5d52bda1824b9ef479%7C1676178982&amp;1676235153676\" alt=\"Image\" width=\"400\" height=\"400\" /></p>\n",
    "<h3 id=\"Basic-Structure-of-Syntax\">Basic Structure of Syntax</h3>\n",
    "<p><img src=\"../../../../../../files/Desktop/Git/Cssintroduction/files/Desktop/Git/Cssintroduction/images/structure.png%3F_xsrf%3D2%7C735564a9%7C505b024be774af5d52bda1824b9ef479%7C1676178982%261676234427497?_xsrf=2%7C735564a9%7C505b024be774af5d52bda1824b9ef479%7C1676178982&amp;1676235153676\" alt=\"Image\" width=\"30%\" height=\"30%\" /></p>\n",
    "<p>A CSS rule contains two parts: a selector and a declaration.</p>\n",
    "<ul>\n",
    "<li><em><strong>Selectors</strong></em> indicate which element the rule applies to. The same rule can apply to different elements.</li>\n",
    "<li><em><strong>Declarations</strong></em> indicate how the elements referred should be styled and are split into two parts: a property and a value.</li>\n",
    "</ul>"
   ]
  },
  {
   "cell_type": "markdown",
   "id": "0d77bf24-2967-4f83-b385-12b56e35ef84",
   "metadata": {},
   "source": [
    "<p><span style=\"font-size: 24pt;\"><strong>Note</strong></span></p>\n",
    "<p><strong>&lt;!DOCTYPE html&gt;</strong> represent the HTML5 syntax which supports some new tags like nav, header etc.</p>\n",
    "<p>The <strong>html </strong>tag contains HTML content also knows as root tag.</p>\n",
    "<p><strong>head</strong> includes the CSS style code, JavaScript code, and meta tags (describes HTML document: keywords).</p>\n",
    "<p>All the HTML rendered content should be placed inside body tag.</p>\n",
    "<p><strong>div</strong> is used as a container to represent an area on the screen.</p>"
   ]
  },
  {
   "cell_type": "markdown",
   "id": "a465e90e-fe99-4569-a432-c1e3285da67a",
   "metadata": {},
   "source": [
    "<p><strong>USING EXTERNAL CSS</strong></p>\n",
    "<p>-In the next cell we should see how to load an external CSS file into an html.&nbsp;</p>\n",
    "<p>&nbsp;</p>"
   ]
  },
  {
   "cell_type": "code",
   "execution_count": 9,
   "id": "35b03fd0",
   "metadata": {
    "jupyter": {
     "source_hidden": true
    },
    "tags": []
   },
   "outputs": [
    {
     "data": {
      "text/html": [
       "\n",
       "<iframe src=\"html/using-external-css.html\" width=\"900\" height=\"250\"></iframe>\n"
      ],
      "text/plain": [
       "<IPython.core.display.HTML object>"
      ]
     },
     "metadata": {},
     "output_type": "display_data"
    }
   ],
   "source": [
    "from IPython.display import HTML,display \n",
    "html = \"\"\"\n",
    "<iframe src=\"html/using-external-css.html\" width=\"900\" height=\"250\"></iframe>\n",
    "\"\"\"\n",
    "\n",
    "display(HTML(html))"
   ]
  },
  {
   "cell_type": "code",
   "execution_count": null,
   "id": "bb5c30fe-1c0a-44c3-ad99-083faa664058",
   "metadata": {},
   "outputs": [],
   "source": []
  }
 ],
 "metadata": {
  "kernelspec": {
   "display_name": "Python 3 (ipykernel)",
   "language": "python",
   "name": "python3"
  },
  "language_info": {
   "codemirror_mode": {
    "name": "ipython",
    "version": 3
   },
   "file_extension": ".py",
   "mimetype": "text/x-python",
   "name": "python",
   "nbconvert_exporter": "python",
   "pygments_lexer": "ipython3",
   "version": "3.9.13"
  }
 },
 "nbformat": 4,
 "nbformat_minor": 5
}
